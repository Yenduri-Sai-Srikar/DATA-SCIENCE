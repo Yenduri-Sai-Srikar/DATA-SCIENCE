{
  "nbformat": 4,
  "nbformat_minor": 0,
  "metadata": {
    "colab": {
      "name": "FoDS  CS2.ipynb",
      "provenance": [],
      "authorship_tag": "ABX9TyMgP6ayKbRMwHFW9T6WaYfn",
      "include_colab_link": true
    },
    "kernelspec": {
      "name": "python3",
      "display_name": "Python 3"
    },
    "language_info": {
      "name": "python"
    }
  },
  "cells": [
    {
      "cell_type": "markdown",
      "metadata": {
        "id": "view-in-github",
        "colab_type": "text"
      },
      "source": [
        "<a href=\"https://colab.research.google.com/github/Yenduri-Sai-Srikar/DATA-SCIENCE/blob/master/FoDS_CS2.ipynb\" target=\"_parent\"><img src=\"https://colab.research.google.com/assets/colab-badge.svg\" alt=\"Open In Colab\"/></a>"
      ]
    },
    {
      "cell_type": "code",
      "metadata": {
        "id": "85INPzHWOopP"
      },
      "source": [
        "import numpy as pd\n",
        "import pandas as pd\n",
        "import os\n",
        "import seaborn as sns\n",
        "from matplotlib import pyplot as plt\n",
        "from pdpbox import pdp, get_dataset, info_plots\n",
        "from sklearn.model_selection import train_test_split\n",
        "from sklearn.model_selection import StratifiedKFold\n",
        "from sklearn.ensemble import RandomForestClassifier\n",
        "from sklearn.metrics import confusion_matrix,accuracy_score\n",
        "from sklearn.tree import DecisionTreeClassifier\n",
        "\n"
      ],
      "execution_count": 9,
      "outputs": []
    },
    {
      "cell_type": "code",
      "metadata": {
        "id": "959urdI0P6fL"
      },
      "source": [
        "!pip install pdpbox"
      ],
      "execution_count": null,
      "outputs": []
    },
    {
      "cell_type": "code",
      "metadata": {
        "colab": {
          "base_uri": "https://localhost:8080/",
          "height": 423
        },
        "id": "gT5MFkbvPHV3",
        "outputId": "b6e878c6-378a-448f-b898-47a39f450c55"
      },
      "source": [
        "df=pd.read_csv('https://raw.githubusercontent.com/NithinNarayanan07/DataScience2/main/diabetes2.csv')\n",
        "df"
      ],
      "execution_count": 27,
      "outputs": [
        {
          "output_type": "execute_result",
          "data": {
            "text/html": [
              "<div>\n",
              "<style scoped>\n",
              "    .dataframe tbody tr th:only-of-type {\n",
              "        vertical-align: middle;\n",
              "    }\n",
              "\n",
              "    .dataframe tbody tr th {\n",
              "        vertical-align: top;\n",
              "    }\n",
              "\n",
              "    .dataframe thead th {\n",
              "        text-align: right;\n",
              "    }\n",
              "</style>\n",
              "<table border=\"1\" class=\"dataframe\">\n",
              "  <thead>\n",
              "    <tr style=\"text-align: right;\">\n",
              "      <th></th>\n",
              "      <th>Unnamed: 0</th>\n",
              "      <th>Pregnancies</th>\n",
              "      <th>Glucose</th>\n",
              "      <th>BloodPressure</th>\n",
              "      <th>SkinThickness</th>\n",
              "      <th>Insulin</th>\n",
              "      <th>BMI</th>\n",
              "      <th>DiabetesPedigreeFunction</th>\n",
              "      <th>Age</th>\n",
              "      <th>Outcome</th>\n",
              "    </tr>\n",
              "  </thead>\n",
              "  <tbody>\n",
              "    <tr>\n",
              "      <th>0</th>\n",
              "      <td>0</td>\n",
              "      <td>6</td>\n",
              "      <td>148.0</td>\n",
              "      <td>72.000000</td>\n",
              "      <td>35.00000</td>\n",
              "      <td>207.593750</td>\n",
              "      <td>33.6</td>\n",
              "      <td>0.627</td>\n",
              "      <td>50.0</td>\n",
              "      <td>1</td>\n",
              "    </tr>\n",
              "    <tr>\n",
              "      <th>1</th>\n",
              "      <td>1</td>\n",
              "      <td>1</td>\n",
              "      <td>85.0</td>\n",
              "      <td>66.000000</td>\n",
              "      <td>29.00000</td>\n",
              "      <td>129.725191</td>\n",
              "      <td>26.6</td>\n",
              "      <td>0.351</td>\n",
              "      <td>31.0</td>\n",
              "      <td>0</td>\n",
              "    </tr>\n",
              "    <tr>\n",
              "      <th>2</th>\n",
              "      <td>2</td>\n",
              "      <td>8</td>\n",
              "      <td>183.0</td>\n",
              "      <td>69.224299</td>\n",
              "      <td>0.00000</td>\n",
              "      <td>207.593750</td>\n",
              "      <td>23.3</td>\n",
              "      <td>0.672</td>\n",
              "      <td>32.0</td>\n",
              "      <td>1</td>\n",
              "    </tr>\n",
              "    <tr>\n",
              "      <th>3</th>\n",
              "      <td>3</td>\n",
              "      <td>1</td>\n",
              "      <td>89.0</td>\n",
              "      <td>66.000000</td>\n",
              "      <td>23.00000</td>\n",
              "      <td>94.000000</td>\n",
              "      <td>28.1</td>\n",
              "      <td>0.167</td>\n",
              "      <td>21.0</td>\n",
              "      <td>0</td>\n",
              "    </tr>\n",
              "    <tr>\n",
              "      <th>4</th>\n",
              "      <td>4</td>\n",
              "      <td>0</td>\n",
              "      <td>137.0</td>\n",
              "      <td>40.000000</td>\n",
              "      <td>20.43254</td>\n",
              "      <td>168.000000</td>\n",
              "      <td>43.1</td>\n",
              "      <td>2.288</td>\n",
              "      <td>33.0</td>\n",
              "      <td>1</td>\n",
              "    </tr>\n",
              "    <tr>\n",
              "      <th>...</th>\n",
              "      <td>...</td>\n",
              "      <td>...</td>\n",
              "      <td>...</td>\n",
              "      <td>...</td>\n",
              "      <td>...</td>\n",
              "      <td>...</td>\n",
              "      <td>...</td>\n",
              "      <td>...</td>\n",
              "      <td>...</td>\n",
              "      <td>...</td>\n",
              "    </tr>\n",
              "    <tr>\n",
              "      <th>736</th>\n",
              "      <td>763</td>\n",
              "      <td>10</td>\n",
              "      <td>101.0</td>\n",
              "      <td>76.000000</td>\n",
              "      <td>48.00000</td>\n",
              "      <td>180.000000</td>\n",
              "      <td>32.9</td>\n",
              "      <td>0.171</td>\n",
              "      <td>63.0</td>\n",
              "      <td>0</td>\n",
              "    </tr>\n",
              "    <tr>\n",
              "      <th>737</th>\n",
              "      <td>764</td>\n",
              "      <td>2</td>\n",
              "      <td>122.0</td>\n",
              "      <td>70.000000</td>\n",
              "      <td>27.00000</td>\n",
              "      <td>129.725191</td>\n",
              "      <td>36.8</td>\n",
              "      <td>0.340</td>\n",
              "      <td>27.0</td>\n",
              "      <td>0</td>\n",
              "    </tr>\n",
              "    <tr>\n",
              "      <th>738</th>\n",
              "      <td>765</td>\n",
              "      <td>5</td>\n",
              "      <td>121.0</td>\n",
              "      <td>72.000000</td>\n",
              "      <td>23.00000</td>\n",
              "      <td>112.000000</td>\n",
              "      <td>26.2</td>\n",
              "      <td>0.245</td>\n",
              "      <td>30.0</td>\n",
              "      <td>0</td>\n",
              "    </tr>\n",
              "    <tr>\n",
              "      <th>739</th>\n",
              "      <td>766</td>\n",
              "      <td>1</td>\n",
              "      <td>126.0</td>\n",
              "      <td>60.000000</td>\n",
              "      <td>0.00000</td>\n",
              "      <td>207.593750</td>\n",
              "      <td>30.1</td>\n",
              "      <td>0.349</td>\n",
              "      <td>47.0</td>\n",
              "      <td>1</td>\n",
              "    </tr>\n",
              "    <tr>\n",
              "      <th>740</th>\n",
              "      <td>767</td>\n",
              "      <td>1</td>\n",
              "      <td>93.0</td>\n",
              "      <td>70.000000</td>\n",
              "      <td>31.00000</td>\n",
              "      <td>129.725191</td>\n",
              "      <td>30.4</td>\n",
              "      <td>0.315</td>\n",
              "      <td>23.0</td>\n",
              "      <td>0</td>\n",
              "    </tr>\n",
              "  </tbody>\n",
              "</table>\n",
              "<p>741 rows × 10 columns</p>\n",
              "</div>"
            ],
            "text/plain": [
              "     Unnamed: 0  Pregnancies  Glucose  ...  DiabetesPedigreeFunction   Age  Outcome\n",
              "0             0            6    148.0  ...                     0.627  50.0        1\n",
              "1             1            1     85.0  ...                     0.351  31.0        0\n",
              "2             2            8    183.0  ...                     0.672  32.0        1\n",
              "3             3            1     89.0  ...                     0.167  21.0        0\n",
              "4             4            0    137.0  ...                     2.288  33.0        1\n",
              "..          ...          ...      ...  ...                       ...   ...      ...\n",
              "736         763           10    101.0  ...                     0.171  63.0        0\n",
              "737         764            2    122.0  ...                     0.340  27.0        0\n",
              "738         765            5    121.0  ...                     0.245  30.0        0\n",
              "739         766            1    126.0  ...                     0.349  47.0        1\n",
              "740         767            1     93.0  ...                     0.315  23.0        0\n",
              "\n",
              "[741 rows x 10 columns]"
            ]
          },
          "metadata": {},
          "execution_count": 27
        }
      ]
    },
    {
      "cell_type": "code",
      "metadata": {
        "id": "da0dyyEkPJgg"
      },
      "source": [
        "def bmi(row):\n",
        "    if row[\"BMI\"] < 18.5:\n",
        "        return \"Low\"\n",
        "    elif row[\"BMI\"] >= 18.5 and row[\"BMI\"] <= 24.9:\n",
        "        return \"Perfect\"\n",
        "    elif row[\"BMI\"] >= 25 and row[\"BMI\"] <= 29.9:\n",
        "        return \"High\"\n",
        "    elif row[\"BMI\"] >= 30:\n",
        "        return \"Obese\""
      ],
      "execution_count": 32,
      "outputs": []
    },
    {
      "cell_type": "code",
      "metadata": {
        "id": "eSzBlsP5QSMO"
      },
      "source": [
        "df = df.assign(BMI_pred=df.apply(bmi, axis=1))"
      ],
      "execution_count": 39,
      "outputs": []
    },
    {
      "cell_type": "code",
      "metadata": {
        "colab": {
          "base_uri": "https://localhost:8080/",
          "height": 423
        },
        "id": "YM86eSxpSFGY",
        "outputId": "35dbe6b4-2aa9-4331-9f7a-ff44d8dbb5db"
      },
      "source": [
        "df"
      ],
      "execution_count": 40,
      "outputs": [
        {
          "output_type": "execute_result",
          "data": {
            "text/html": [
              "<div>\n",
              "<style scoped>\n",
              "    .dataframe tbody tr th:only-of-type {\n",
              "        vertical-align: middle;\n",
              "    }\n",
              "\n",
              "    .dataframe tbody tr th {\n",
              "        vertical-align: top;\n",
              "    }\n",
              "\n",
              "    .dataframe thead th {\n",
              "        text-align: right;\n",
              "    }\n",
              "</style>\n",
              "<table border=\"1\" class=\"dataframe\">\n",
              "  <thead>\n",
              "    <tr style=\"text-align: right;\">\n",
              "      <th></th>\n",
              "      <th>Unnamed: 0</th>\n",
              "      <th>Pregnancies</th>\n",
              "      <th>Glucose</th>\n",
              "      <th>BloodPressure</th>\n",
              "      <th>SkinThickness</th>\n",
              "      <th>Insulin</th>\n",
              "      <th>BMI</th>\n",
              "      <th>DiabetesPedigreeFunction</th>\n",
              "      <th>Age</th>\n",
              "      <th>Outcome</th>\n",
              "      <th>BMI_pred</th>\n",
              "      <th>INSULIN_pred</th>\n",
              "    </tr>\n",
              "  </thead>\n",
              "  <tbody>\n",
              "    <tr>\n",
              "      <th>0</th>\n",
              "      <td>0</td>\n",
              "      <td>6</td>\n",
              "      <td>148.0</td>\n",
              "      <td>72.000000</td>\n",
              "      <td>35.00000</td>\n",
              "      <td>207.593750</td>\n",
              "      <td>33.6</td>\n",
              "      <td>0.627</td>\n",
              "      <td>50.0</td>\n",
              "      <td>1</td>\n",
              "      <td>Obese</td>\n",
              "      <td>Unusual</td>\n",
              "    </tr>\n",
              "    <tr>\n",
              "      <th>1</th>\n",
              "      <td>1</td>\n",
              "      <td>1</td>\n",
              "      <td>85.0</td>\n",
              "      <td>66.000000</td>\n",
              "      <td>29.00000</td>\n",
              "      <td>129.725191</td>\n",
              "      <td>26.6</td>\n",
              "      <td>0.351</td>\n",
              "      <td>31.0</td>\n",
              "      <td>0</td>\n",
              "      <td>High</td>\n",
              "      <td>Usual</td>\n",
              "    </tr>\n",
              "    <tr>\n",
              "      <th>2</th>\n",
              "      <td>2</td>\n",
              "      <td>8</td>\n",
              "      <td>183.0</td>\n",
              "      <td>69.224299</td>\n",
              "      <td>0.00000</td>\n",
              "      <td>207.593750</td>\n",
              "      <td>23.3</td>\n",
              "      <td>0.672</td>\n",
              "      <td>32.0</td>\n",
              "      <td>1</td>\n",
              "      <td>Perfect</td>\n",
              "      <td>Unusual</td>\n",
              "    </tr>\n",
              "    <tr>\n",
              "      <th>3</th>\n",
              "      <td>3</td>\n",
              "      <td>1</td>\n",
              "      <td>89.0</td>\n",
              "      <td>66.000000</td>\n",
              "      <td>23.00000</td>\n",
              "      <td>94.000000</td>\n",
              "      <td>28.1</td>\n",
              "      <td>0.167</td>\n",
              "      <td>21.0</td>\n",
              "      <td>0</td>\n",
              "      <td>High</td>\n",
              "      <td>Usual</td>\n",
              "    </tr>\n",
              "    <tr>\n",
              "      <th>4</th>\n",
              "      <td>4</td>\n",
              "      <td>0</td>\n",
              "      <td>137.0</td>\n",
              "      <td>40.000000</td>\n",
              "      <td>20.43254</td>\n",
              "      <td>168.000000</td>\n",
              "      <td>43.1</td>\n",
              "      <td>2.288</td>\n",
              "      <td>33.0</td>\n",
              "      <td>1</td>\n",
              "      <td>Obese</td>\n",
              "      <td>Unusual</td>\n",
              "    </tr>\n",
              "    <tr>\n",
              "      <th>...</th>\n",
              "      <td>...</td>\n",
              "      <td>...</td>\n",
              "      <td>...</td>\n",
              "      <td>...</td>\n",
              "      <td>...</td>\n",
              "      <td>...</td>\n",
              "      <td>...</td>\n",
              "      <td>...</td>\n",
              "      <td>...</td>\n",
              "      <td>...</td>\n",
              "      <td>...</td>\n",
              "      <td>...</td>\n",
              "    </tr>\n",
              "    <tr>\n",
              "      <th>736</th>\n",
              "      <td>763</td>\n",
              "      <td>10</td>\n",
              "      <td>101.0</td>\n",
              "      <td>76.000000</td>\n",
              "      <td>48.00000</td>\n",
              "      <td>180.000000</td>\n",
              "      <td>32.9</td>\n",
              "      <td>0.171</td>\n",
              "      <td>63.0</td>\n",
              "      <td>0</td>\n",
              "      <td>Obese</td>\n",
              "      <td>Unusual</td>\n",
              "    </tr>\n",
              "    <tr>\n",
              "      <th>737</th>\n",
              "      <td>764</td>\n",
              "      <td>2</td>\n",
              "      <td>122.0</td>\n",
              "      <td>70.000000</td>\n",
              "      <td>27.00000</td>\n",
              "      <td>129.725191</td>\n",
              "      <td>36.8</td>\n",
              "      <td>0.340</td>\n",
              "      <td>27.0</td>\n",
              "      <td>0</td>\n",
              "      <td>Obese</td>\n",
              "      <td>Usual</td>\n",
              "    </tr>\n",
              "    <tr>\n",
              "      <th>738</th>\n",
              "      <td>765</td>\n",
              "      <td>5</td>\n",
              "      <td>121.0</td>\n",
              "      <td>72.000000</td>\n",
              "      <td>23.00000</td>\n",
              "      <td>112.000000</td>\n",
              "      <td>26.2</td>\n",
              "      <td>0.245</td>\n",
              "      <td>30.0</td>\n",
              "      <td>0</td>\n",
              "      <td>High</td>\n",
              "      <td>Usual</td>\n",
              "    </tr>\n",
              "    <tr>\n",
              "      <th>739</th>\n",
              "      <td>766</td>\n",
              "      <td>1</td>\n",
              "      <td>126.0</td>\n",
              "      <td>60.000000</td>\n",
              "      <td>0.00000</td>\n",
              "      <td>207.593750</td>\n",
              "      <td>30.1</td>\n",
              "      <td>0.349</td>\n",
              "      <td>47.0</td>\n",
              "      <td>1</td>\n",
              "      <td>Obese</td>\n",
              "      <td>Unusual</td>\n",
              "    </tr>\n",
              "    <tr>\n",
              "      <th>740</th>\n",
              "      <td>767</td>\n",
              "      <td>1</td>\n",
              "      <td>93.0</td>\n",
              "      <td>70.000000</td>\n",
              "      <td>31.00000</td>\n",
              "      <td>129.725191</td>\n",
              "      <td>30.4</td>\n",
              "      <td>0.315</td>\n",
              "      <td>23.0</td>\n",
              "      <td>0</td>\n",
              "      <td>Obese</td>\n",
              "      <td>Usual</td>\n",
              "    </tr>\n",
              "  </tbody>\n",
              "</table>\n",
              "<p>741 rows × 12 columns</p>\n",
              "</div>"
            ],
            "text/plain": [
              "     Unnamed: 0  Pregnancies  Glucose  ...  Outcome  BMI_pred  INSULIN_pred\n",
              "0             0            6    148.0  ...        1     Obese       Unusual\n",
              "1             1            1     85.0  ...        0      High         Usual\n",
              "2             2            8    183.0  ...        1   Perfect       Unusual\n",
              "3             3            1     89.0  ...        0      High         Usual\n",
              "4             4            0    137.0  ...        1     Obese       Unusual\n",
              "..          ...          ...      ...  ...      ...       ...           ...\n",
              "736         763           10    101.0  ...        0     Obese       Unusual\n",
              "737         764            2    122.0  ...        0     Obese         Usual\n",
              "738         765            5    121.0  ...        0      High         Usual\n",
              "739         766            1    126.0  ...        1     Obese       Unusual\n",
              "740         767            1     93.0  ...        0     Obese         Usual\n",
              "\n",
              "[741 rows x 12 columns]"
            ]
          },
          "metadata": {},
          "execution_count": 40
        }
      ]
    },
    {
      "cell_type": "code",
      "metadata": {
        "id": "OcZcg8qDRetU"
      },
      "source": [
        "def insulin(row):\n",
        "    if row[\"Insulin\"] >= 16 and row[\"Insulin\"] <= 166:\n",
        "        return \"Usual\"\n",
        "    else:\n",
        "        return \"Unusual\""
      ],
      "execution_count": 35,
      "outputs": []
    },
    {
      "cell_type": "code",
      "metadata": {
        "id": "lgBVe5eNRrES"
      },
      "source": [
        "df = df.assign(INSULIN_pred=df.apply(insulin, axis=1))"
      ],
      "execution_count": 41,
      "outputs": []
    },
    {
      "cell_type": "code",
      "metadata": {
        "colab": {
          "base_uri": "https://localhost:8080/",
          "height": 423
        },
        "id": "uQ1BfJGoSLnO",
        "outputId": "a51cc82e-646c-4825-8c96-19194e758506"
      },
      "source": [
        "df"
      ],
      "execution_count": 42,
      "outputs": [
        {
          "output_type": "execute_result",
          "data": {
            "text/html": [
              "<div>\n",
              "<style scoped>\n",
              "    .dataframe tbody tr th:only-of-type {\n",
              "        vertical-align: middle;\n",
              "    }\n",
              "\n",
              "    .dataframe tbody tr th {\n",
              "        vertical-align: top;\n",
              "    }\n",
              "\n",
              "    .dataframe thead th {\n",
              "        text-align: right;\n",
              "    }\n",
              "</style>\n",
              "<table border=\"1\" class=\"dataframe\">\n",
              "  <thead>\n",
              "    <tr style=\"text-align: right;\">\n",
              "      <th></th>\n",
              "      <th>Unnamed: 0</th>\n",
              "      <th>Pregnancies</th>\n",
              "      <th>Glucose</th>\n",
              "      <th>BloodPressure</th>\n",
              "      <th>SkinThickness</th>\n",
              "      <th>Insulin</th>\n",
              "      <th>BMI</th>\n",
              "      <th>DiabetesPedigreeFunction</th>\n",
              "      <th>Age</th>\n",
              "      <th>Outcome</th>\n",
              "      <th>BMI_pred</th>\n",
              "      <th>INSULIN_pred</th>\n",
              "    </tr>\n",
              "  </thead>\n",
              "  <tbody>\n",
              "    <tr>\n",
              "      <th>0</th>\n",
              "      <td>0</td>\n",
              "      <td>6</td>\n",
              "      <td>148.0</td>\n",
              "      <td>72.000000</td>\n",
              "      <td>35.00000</td>\n",
              "      <td>207.593750</td>\n",
              "      <td>33.6</td>\n",
              "      <td>0.627</td>\n",
              "      <td>50.0</td>\n",
              "      <td>1</td>\n",
              "      <td>Obese</td>\n",
              "      <td>Unusual</td>\n",
              "    </tr>\n",
              "    <tr>\n",
              "      <th>1</th>\n",
              "      <td>1</td>\n",
              "      <td>1</td>\n",
              "      <td>85.0</td>\n",
              "      <td>66.000000</td>\n",
              "      <td>29.00000</td>\n",
              "      <td>129.725191</td>\n",
              "      <td>26.6</td>\n",
              "      <td>0.351</td>\n",
              "      <td>31.0</td>\n",
              "      <td>0</td>\n",
              "      <td>High</td>\n",
              "      <td>Usual</td>\n",
              "    </tr>\n",
              "    <tr>\n",
              "      <th>2</th>\n",
              "      <td>2</td>\n",
              "      <td>8</td>\n",
              "      <td>183.0</td>\n",
              "      <td>69.224299</td>\n",
              "      <td>0.00000</td>\n",
              "      <td>207.593750</td>\n",
              "      <td>23.3</td>\n",
              "      <td>0.672</td>\n",
              "      <td>32.0</td>\n",
              "      <td>1</td>\n",
              "      <td>Perfect</td>\n",
              "      <td>Unusual</td>\n",
              "    </tr>\n",
              "    <tr>\n",
              "      <th>3</th>\n",
              "      <td>3</td>\n",
              "      <td>1</td>\n",
              "      <td>89.0</td>\n",
              "      <td>66.000000</td>\n",
              "      <td>23.00000</td>\n",
              "      <td>94.000000</td>\n",
              "      <td>28.1</td>\n",
              "      <td>0.167</td>\n",
              "      <td>21.0</td>\n",
              "      <td>0</td>\n",
              "      <td>High</td>\n",
              "      <td>Usual</td>\n",
              "    </tr>\n",
              "    <tr>\n",
              "      <th>4</th>\n",
              "      <td>4</td>\n",
              "      <td>0</td>\n",
              "      <td>137.0</td>\n",
              "      <td>40.000000</td>\n",
              "      <td>20.43254</td>\n",
              "      <td>168.000000</td>\n",
              "      <td>43.1</td>\n",
              "      <td>2.288</td>\n",
              "      <td>33.0</td>\n",
              "      <td>1</td>\n",
              "      <td>Obese</td>\n",
              "      <td>Unusual</td>\n",
              "    </tr>\n",
              "    <tr>\n",
              "      <th>...</th>\n",
              "      <td>...</td>\n",
              "      <td>...</td>\n",
              "      <td>...</td>\n",
              "      <td>...</td>\n",
              "      <td>...</td>\n",
              "      <td>...</td>\n",
              "      <td>...</td>\n",
              "      <td>...</td>\n",
              "      <td>...</td>\n",
              "      <td>...</td>\n",
              "      <td>...</td>\n",
              "      <td>...</td>\n",
              "    </tr>\n",
              "    <tr>\n",
              "      <th>736</th>\n",
              "      <td>763</td>\n",
              "      <td>10</td>\n",
              "      <td>101.0</td>\n",
              "      <td>76.000000</td>\n",
              "      <td>48.00000</td>\n",
              "      <td>180.000000</td>\n",
              "      <td>32.9</td>\n",
              "      <td>0.171</td>\n",
              "      <td>63.0</td>\n",
              "      <td>0</td>\n",
              "      <td>Obese</td>\n",
              "      <td>Unusual</td>\n",
              "    </tr>\n",
              "    <tr>\n",
              "      <th>737</th>\n",
              "      <td>764</td>\n",
              "      <td>2</td>\n",
              "      <td>122.0</td>\n",
              "      <td>70.000000</td>\n",
              "      <td>27.00000</td>\n",
              "      <td>129.725191</td>\n",
              "      <td>36.8</td>\n",
              "      <td>0.340</td>\n",
              "      <td>27.0</td>\n",
              "      <td>0</td>\n",
              "      <td>Obese</td>\n",
              "      <td>Usual</td>\n",
              "    </tr>\n",
              "    <tr>\n",
              "      <th>738</th>\n",
              "      <td>765</td>\n",
              "      <td>5</td>\n",
              "      <td>121.0</td>\n",
              "      <td>72.000000</td>\n",
              "      <td>23.00000</td>\n",
              "      <td>112.000000</td>\n",
              "      <td>26.2</td>\n",
              "      <td>0.245</td>\n",
              "      <td>30.0</td>\n",
              "      <td>0</td>\n",
              "      <td>High</td>\n",
              "      <td>Usual</td>\n",
              "    </tr>\n",
              "    <tr>\n",
              "      <th>739</th>\n",
              "      <td>766</td>\n",
              "      <td>1</td>\n",
              "      <td>126.0</td>\n",
              "      <td>60.000000</td>\n",
              "      <td>0.00000</td>\n",
              "      <td>207.593750</td>\n",
              "      <td>30.1</td>\n",
              "      <td>0.349</td>\n",
              "      <td>47.0</td>\n",
              "      <td>1</td>\n",
              "      <td>Obese</td>\n",
              "      <td>Unusual</td>\n",
              "    </tr>\n",
              "    <tr>\n",
              "      <th>740</th>\n",
              "      <td>767</td>\n",
              "      <td>1</td>\n",
              "      <td>93.0</td>\n",
              "      <td>70.000000</td>\n",
              "      <td>31.00000</td>\n",
              "      <td>129.725191</td>\n",
              "      <td>30.4</td>\n",
              "      <td>0.315</td>\n",
              "      <td>23.0</td>\n",
              "      <td>0</td>\n",
              "      <td>Obese</td>\n",
              "      <td>Usual</td>\n",
              "    </tr>\n",
              "  </tbody>\n",
              "</table>\n",
              "<p>741 rows × 12 columns</p>\n",
              "</div>"
            ],
            "text/plain": [
              "     Unnamed: 0  Pregnancies  Glucose  ...  Outcome  BMI_pred  INSULIN_pred\n",
              "0             0            6    148.0  ...        1     Obese       Unusual\n",
              "1             1            1     85.0  ...        0      High         Usual\n",
              "2             2            8    183.0  ...        1   Perfect       Unusual\n",
              "3             3            1     89.0  ...        0      High         Usual\n",
              "4             4            0    137.0  ...        1     Obese       Unusual\n",
              "..          ...          ...      ...  ...      ...       ...           ...\n",
              "736         763           10    101.0  ...        0     Obese       Unusual\n",
              "737         764            2    122.0  ...        0     Obese         Usual\n",
              "738         765            5    121.0  ...        0      High         Usual\n",
              "739         766            1    126.0  ...        1     Obese       Unusual\n",
              "740         767            1     93.0  ...        0     Obese         Usual\n",
              "\n",
              "[741 rows x 12 columns]"
            ]
          },
          "metadata": {},
          "execution_count": 42
        }
      ]
    },
    {
      "cell_type": "code",
      "metadata": {
        "colab": {
          "base_uri": "https://localhost:8080/",
          "height": 314
        },
        "id": "HmcAxQCQSRPK",
        "outputId": "0bb8b58b-872a-41f7-c133-780450749c63"
      },
      "source": [
        "sns.countplot(data=df, x = 'INSULIN_pred', label='Count')\n",
        "good,bad = df['INSULIN_pred'].value_counts()\n",
        "print('No of patients with good Insulin Levels: ',good)\n",
        "print('No of patients with bad  Insulin Levels: ',bad)\n"
      ],
      "execution_count": 46,
      "outputs": [
        {
          "output_type": "stream",
          "name": "stdout",
          "text": [
            "No of patients with good Insulin Levels:  496\n",
            "No of patients with bad  Insulin Levels:  245\n"
          ]
        },
        {
          "output_type": "display_data",
          "data": {
            "image/png": "[encoded data removed]",
            "text/plain": [
              "<Figure size 432x288 with 1 Axes>"
            ]
          },
          "metadata": {
            "needs_background": "light"
          }
        }
      ]
    },
    {
      "cell_type": "code",
      "metadata": {
        "colab": {
          "base_uri": "https://localhost:8080/",
          "height": 350
        },
        "id": "F65DMIpyS-P2",
        "outputId": "52e52fa8-1977-437b-949f-304b047b3006"
      },
      "source": [
        "sns.countplot(data=df, x = 'BMI_pred', label='Count')\n",
        "\n",
        "O,H,P,L = df['BMI_pred'].value_counts()\n",
        "print('No of patients with low BMI: ',L)\n",
        "print('No of patients with good BMI: ',P)\n",
        "print('No of patients with high BMI: ',H)\n",
        "print('No of patients with over BMI: ',O)"
      ],
      "execution_count": 55,
      "outputs": [
        {
          "output_type": "stream",
          "name": "stdout",
          "text": [
            "No of patients with low BMI:  14\n",
            "No of patients with good BMI:  100\n",
            "No of patients with high BMI:  172\n",
            "No of patients with over BMI:  455\n"
          ]
        },
        {
          "output_type": "display_data",
          "data": {
            "image/png": "[encoded data removed]",
            "text/plain": [
              "<Figure size 432x288 with 1 Axes>"
            ]
          },
          "metadata": {
            "needs_background": "light"
          }
        }
      ]
    },
    {
      "cell_type": "code",
      "metadata": {
        "colab": {
          "base_uri": "https://localhost:8080/",
          "height": 509
        },
        "id": "Vxk8AEJSUuxc",
        "outputId": "9204f75a-742e-4cff-ab4a-6e6f4324a91f"
      },
      "source": [
        "g = sns.FacetGrid(df, col=\"INSULIN_pred\", row=\"Outcome\", margin_titles=True)\n",
        "g.map(plt.scatter,\"Glucose\", \"BloodPressure\",  edgecolor=\"w\")\n",
        "plt.subplots_adjust(top=1.1)"
      ],
      "execution_count": 56,
      "outputs": [
        {
          "output_type": "display_data",
          "data": {
            "image/png": "[encoded data removed]",
            "text/plain": [
              "<Figure size 432x432 with 4 Axes>"
            ]
          },
          "metadata": {
            "needs_background": "light"
          }
        }
      ]
    },
    {
      "cell_type": "code",
      "metadata": {
        "colab": {
          "base_uri": "https://localhost:8080/",
          "height": 509
        },
        "id": "J0dbdVsJVV_l",
        "outputId": "0af5ec5c-6499-4ad0-d9a1-283c0fdb9248"
      },
      "source": [
        "g = sns.FacetGrid(df, col=\"INSULIN_pred\", row=\"Outcome\", margin_titles=True)\n",
        "g.map(plt.scatter,\"DiabetesPedigreeFunction\", \"BloodPressure\",  edgecolor=\"w\")\n",
        "plt.subplots_adjust(top=1.1)"
      ],
      "execution_count": 57,
      "outputs": [
        {
          "output_type": "display_data",
          "data": {
            "image/png": "[encoded data removed]",
            "text/plain": [
              "<Figure size 432x432 with 4 Axes>"
            ]
          },
          "metadata": {
            "needs_background": "light"
          }
        }
      ]
    },
    {
      "cell_type": "code",
      "metadata": {
        "colab": {
          "base_uri": "https://localhost:8080/",
          "height": 443
        },
        "id": "lgqCRGQDVj7G",
        "outputId": "745e94d4-6bd2-4384-972d-b7bca1f592ac"
      },
      "source": [
        "g = sns.FacetGrid(df, col=\"Outcome\", row=\"INSULIN_pred\", margin_titles=True)\n",
        "g.map(plt.hist, \"Age\", color=\"red\")\n",
        "plt.subplots_adjust(top=0.9)\n",
        "g.fig.suptitle('Disease by INSULIN and Age');"
      ],
      "execution_count": 58,
      "outputs": [
        {
          "output_type": "display_data",
          "data": {
            "image/png": "[encoded data removed]",
            "text/plain": [
              "<Figure size 432x432 with 4 Axes>"
            ]
          },
          "metadata": {
            "needs_background": "light"
          }
        }
      ]
    },
    {
      "cell_type": "code",
      "metadata": {
        "colab": {
          "base_uri": "https://localhost:8080/",
          "height": 279
        },
        "id": "hnGhekKeV0Ta",
        "outputId": "89be5f4f-a99c-465f-f6e0-78df0a1d2859"
      },
      "source": [
        "sns.boxplot(x=\"Age\", y=\"INSULIN_pred\", hue=\"Outcome\", data=df);"
      ],
      "execution_count": 59,
      "outputs": [
        {
          "output_type": "display_data",
          "data": {
            "image/png": "[encoded data removed]",
            "text/plain": [
              "<Figure size 432x288 with 1 Axes>"
            ]
          },
          "metadata": {
            "needs_background": "light"
          }
        }
      ]
    },
    {
      "cell_type": "code",
      "metadata": {
        "colab": {
          "base_uri": "https://localhost:8080/",
          "height": 279
        },
        "id": "tW8L5eX_V77U",
        "outputId": "223d2f81-058e-4ba1-d2d4-c64fde3ea308"
      },
      "source": [
        "sns.boxplot(x=\"Age\", y=\"BMI_pred\", hue=\"Outcome\", data=df);"
      ],
      "execution_count": 61,
      "outputs": [
        {
          "output_type": "display_data",
          "data": {
            "image/png": "[encoded data removed]",
            "text/plain": [
              "<Figure size 432x288 with 1 Axes>"
            ]
          },
          "metadata": {
            "needs_background": "light"
          }
        }
      ]
    }
  ]
}